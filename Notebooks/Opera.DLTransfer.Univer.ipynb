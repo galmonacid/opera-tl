{
 "cells": [
  {
   "cell_type": "code",
   "execution_count": 2,
   "metadata": {
    "colab": {},
    "colab_type": "code",
    "executionInfo": {
     "elapsed": 550,
     "status": "ok",
     "timestamp": 1592857719440,
     "user": {
      "displayName": "Guillermo Almonacid Olleros",
      "photoUrl": "https://lh3.googleusercontent.com/a-/AOh14GhjfrhK8qSn1CpU7XUoq54WssLCSZOwrZ0t1ndG0Q=s64",
      "userId": "09171152471714266162"
     },
     "user_tz": -60
    },
    "id": "XBNG7BM1gUVO"
   },
   "outputs": [
    {
     "name": "stdout",
     "output_type": "stream",
     "text": [
      "Collecting matplotlib\n",
      "  Using cached matplotlib-3.3.4-cp36-cp36m-manylinux1_x86_64.whl (11.5 MB)\n",
      "Requirement already satisfied: pyparsing!=2.0.4,!=2.1.2,!=2.1.6,>=2.0.3 in /usr/local/lib/python3.6/site-packages (from matplotlib) (2.4.7)\n",
      "Collecting kiwisolver>=1.0.1\n",
      "  Using cached kiwisolver-1.3.1-cp36-cp36m-manylinux1_x86_64.whl (1.1 MB)\n",
      "Collecting cycler>=0.10\n",
      "  Using cached cycler-0.11.0-py3-none-any.whl (6.4 kB)\n",
      "Requirement already satisfied: pillow>=6.2.0 in /usr/local/lib/python3.6/site-packages (from matplotlib) (7.2.0)\n",
      "Requirement already satisfied: numpy>=1.15 in /usr/local/lib/python3.6/site-packages (from matplotlib) (1.18.5)\n",
      "Requirement already satisfied: python-dateutil>=2.1 in /usr/local/lib/python3.6/site-packages (from matplotlib) (2.8.2)\n",
      "Requirement already satisfied: six>=1.5 in /usr/local/lib/python3.6/site-packages (from python-dateutil>=2.1->matplotlib) (1.16.0)\n",
      "Installing collected packages: kiwisolver, cycler, matplotlib\n",
      "Successfully installed cycler-0.11.0 kiwisolver-1.3.1 matplotlib-3.3.4\n",
      "\u001b[33mWARNING: You are using pip version 21.0.1; however, version 21.3.1 is available.\n",
      "You should consider upgrading via the '/usr/local/bin/python3.6 -m pip install --upgrade pip' command.\u001b[0m\n",
      "Collecting tensorflow\n",
      "  Using cached tensorflow-2.6.2-cp36-cp36m-manylinux2010_x86_64.whl (458.3 MB)\n",
      "Collecting astunparse~=1.6.3\n",
      "  Using cached astunparse-1.6.3-py2.py3-none-any.whl (12 kB)\n",
      "Collecting h5py~=3.1.0\n",
      "  Using cached h5py-3.1.0-cp36-cp36m-manylinux1_x86_64.whl (4.0 MB)\n",
      "Collecting flatbuffers~=1.12.0\n",
      "  Using cached flatbuffers-1.12-py2.py3-none-any.whl (15 kB)\n",
      "Collecting tensorboard<2.7,>=2.6.0\n",
      "  Using cached tensorboard-2.6.0-py3-none-any.whl (5.6 MB)\n",
      "Collecting numpy~=1.19.2\n",
      "  Using cached numpy-1.19.5-cp36-cp36m-manylinux2010_x86_64.whl (14.8 MB)\n",
      "Collecting gast==0.4.0\n",
      "  Using cached gast-0.4.0-py3-none-any.whl (9.8 kB)\n",
      "Requirement already satisfied: termcolor~=1.1.0 in /usr/local/lib/python3.6/site-packages (from tensorflow) (1.1.0)\n",
      "Requirement already satisfied: opt-einsum~=3.3.0 in /usr/local/lib/python3.6/site-packages (from tensorflow) (3.3.0)\n",
      "Requirement already satisfied: google-pasta~=0.2 in /usr/local/lib/python3.6/site-packages (from tensorflow) (0.2.0)\n",
      "Requirement already satisfied: wheel~=0.35 in /usr/local/lib/python3.6/site-packages (from tensorflow) (0.36.2)\n",
      "Collecting keras-preprocessing~=1.1.2\n",
      "  Using cached Keras_Preprocessing-1.1.2-py2.py3-none-any.whl (42 kB)\n",
      "Requirement already satisfied: wrapt~=1.12.1 in /usr/local/lib/python3.6/site-packages (from tensorflow) (1.12.1)\n",
      "Collecting tensorflow-estimator<2.7,>=2.6.0\n",
      "  Using cached tensorflow_estimator-2.6.0-py2.py3-none-any.whl (462 kB)\n",
      "Requirement already satisfied: protobuf>=3.9.2 in /usr/local/lib/python3.6/site-packages (from tensorflow) (3.15.5)\n",
      "Collecting keras<2.7,>=2.6.0\n",
      "  Using cached keras-2.6.0-py2.py3-none-any.whl (1.3 MB)\n",
      "Collecting clang~=5.0\n",
      "  Using cached clang-5.0-py3-none-any.whl\n",
      "Collecting grpcio<2.0,>=1.37.0\n",
      "  Using cached grpcio-1.42.0-cp36-cp36m-manylinux_2_17_x86_64.manylinux2014_x86_64.whl (4.0 MB)\n",
      "Requirement already satisfied: typing-extensions~=3.7.4 in /usr/local/lib/python3.6/site-packages (from tensorflow) (3.7.4.3)\n",
      "Requirement already satisfied: absl-py~=0.10 in /usr/local/lib/python3.6/site-packages (from tensorflow) (0.10.0)\n",
      "Collecting six~=1.15.0\n",
      "  Using cached six-1.15.0-py2.py3-none-any.whl (10 kB)\n",
      "Requirement already satisfied: cached-property in /usr/local/lib/python3.6/site-packages (from h5py~=3.1.0->tensorflow) (1.5.2)\n",
      "Collecting tensorboard-data-server<0.7.0,>=0.6.0\n",
      "  Using cached tensorboard_data_server-0.6.1-py3-none-manylinux2010_x86_64.whl (4.9 MB)\n",
      "Requirement already satisfied: markdown>=2.6.8 in /usr/local/lib/python3.6/site-packages (from tensorboard<2.7,>=2.6.0->tensorflow) (3.3.4)\n",
      "Requirement already satisfied: google-auth-oauthlib<0.5,>=0.4.1 in /usr/local/lib/python3.6/site-packages (from tensorboard<2.7,>=2.6.0->tensorflow) (0.4.3)\n",
      "Requirement already satisfied: google-auth<2,>=1.6.3 in /usr/local/lib/python3.6/site-packages (from tensorboard<2.7,>=2.6.0->tensorflow) (1.27.1)\n",
      "Requirement already satisfied: requests<3,>=2.21.0 in /usr/local/lib/python3.6/site-packages (from tensorboard<2.7,>=2.6.0->tensorflow) (2.22.0)\n",
      "Requirement already satisfied: setuptools>=41.0.0 in /usr/local/lib/python3.6/site-packages (from tensorboard<2.7,>=2.6.0->tensorflow) (59.2.0)\n",
      "Collecting tensorboard-plugin-wit>=1.6.0\n",
      "  Using cached tensorboard_plugin_wit-1.8.0-py3-none-any.whl (781 kB)\n",
      "Requirement already satisfied: werkzeug>=0.11.15 in /usr/local/lib/python3.6/site-packages (from tensorboard<2.7,>=2.6.0->tensorflow) (1.0.1)\n",
      "Requirement already satisfied: rsa<5,>=3.1.4 in /usr/local/lib/python3.6/site-packages (from google-auth<2,>=1.6.3->tensorboard<2.7,>=2.6.0->tensorflow) (4.7.2)\n",
      "Requirement already satisfied: cachetools<5.0,>=2.0.0 in /usr/local/lib/python3.6/site-packages (from google-auth<2,>=1.6.3->tensorboard<2.7,>=2.6.0->tensorflow) (4.2.1)\n",
      "Requirement already satisfied: pyasn1-modules>=0.2.1 in /usr/local/lib/python3.6/site-packages (from google-auth<2,>=1.6.3->tensorboard<2.7,>=2.6.0->tensorflow) (0.2.8)\n",
      "Requirement already satisfied: requests-oauthlib>=0.7.0 in /usr/local/lib/python3.6/site-packages (from google-auth-oauthlib<0.5,>=0.4.1->tensorboard<2.7,>=2.6.0->tensorflow) (1.3.0)\n",
      "Requirement already satisfied: importlib-metadata in /usr/local/lib/python3.6/site-packages (from markdown>=2.6.8->tensorboard<2.7,>=2.6.0->tensorflow) (3.7.2)\n",
      "Requirement already satisfied: pyasn1<0.5.0,>=0.4.6 in /usr/local/lib/python3.6/site-packages (from pyasn1-modules>=0.2.1->google-auth<2,>=1.6.3->tensorboard<2.7,>=2.6.0->tensorflow) (0.4.8)\n",
      "Requirement already satisfied: certifi>=2017.4.17 in /usr/local/lib/python3.6/site-packages (from requests<3,>=2.21.0->tensorboard<2.7,>=2.6.0->tensorflow) (2020.12.5)\n",
      "Requirement already satisfied: idna<2.9,>=2.5 in /usr/local/lib/python3.6/site-packages (from requests<3,>=2.21.0->tensorboard<2.7,>=2.6.0->tensorflow) (2.8)\n",
      "Requirement already satisfied: chardet<3.1.0,>=3.0.2 in /usr/local/lib/python3.6/site-packages (from requests<3,>=2.21.0->tensorboard<2.7,>=2.6.0->tensorflow) (3.0.4)\n",
      "Requirement already satisfied: urllib3!=1.25.0,!=1.25.1,<1.26,>=1.21.1 in /usr/local/lib/python3.6/site-packages (from requests<3,>=2.21.0->tensorboard<2.7,>=2.6.0->tensorflow) (1.25.11)\n",
      "Requirement already satisfied: oauthlib>=3.0.0 in /usr/local/lib/python3.6/site-packages (from requests-oauthlib>=0.7.0->google-auth-oauthlib<0.5,>=0.4.1->tensorboard<2.7,>=2.6.0->tensorflow) (3.1.0)\n",
      "Requirement already satisfied: zipp>=0.5 in /usr/local/lib/python3.6/site-packages (from importlib-metadata->markdown>=2.6.8->tensorboard<2.7,>=2.6.0->tensorflow) (3.4.1)\n",
      "Installing collected packages: six, tensorboard-plugin-wit, tensorboard-data-server, numpy, grpcio, tensorflow-estimator, tensorboard, keras-preprocessing, keras, h5py, gast, flatbuffers, clang, astunparse, tensorflow\n",
      "  Attempting uninstall: six\n",
      "    Found existing installation: six 1.16.0\n",
      "    Uninstalling six-1.16.0:\n",
      "      Successfully uninstalled six-1.16.0\n",
      "  Attempting uninstall: numpy\n",
      "    Found existing installation: numpy 1.18.5\n",
      "    Uninstalling numpy-1.18.5:\n",
      "      Successfully uninstalled numpy-1.18.5\n",
      "  Attempting uninstall: grpcio\n",
      "    Found existing installation: grpcio 1.36.1\n",
      "    Uninstalling grpcio-1.36.1:\n",
      "      Successfully uninstalled grpcio-1.36.1\n",
      "  Attempting uninstall: tensorflow-estimator\n",
      "    Found existing installation: tensorflow-estimator 2.1.0\n",
      "    Uninstalling tensorflow-estimator-2.1.0:\n",
      "      Successfully uninstalled tensorflow-estimator-2.1.0\n",
      "  Attempting uninstall: tensorboard\n",
      "    Found existing installation: tensorboard 2.1.1\n",
      "    Uninstalling tensorboard-2.1.1:\n",
      "      Successfully uninstalled tensorboard-2.1.1\n",
      "  Attempting uninstall: keras-preprocessing\n",
      "    Found existing installation: Keras-Preprocessing 1.1.0\n",
      "    Uninstalling Keras-Preprocessing-1.1.0:\n",
      "      Successfully uninstalled Keras-Preprocessing-1.1.0\n",
      "  Attempting uninstall: keras\n",
      "    Found existing installation: Keras 2.3.1\n",
      "    Uninstalling Keras-2.3.1:\n",
      "      Successfully uninstalled Keras-2.3.1\n",
      "  Attempting uninstall: h5py\n",
      "    Found existing installation: h5py 2.10.0\n",
      "    Uninstalling h5py-2.10.0:\n",
      "      Successfully uninstalled h5py-2.10.0\n",
      "  Attempting uninstall: gast\n",
      "    Found existing installation: gast 0.2.2\n",
      "    Uninstalling gast-0.2.2:\n",
      "      Successfully uninstalled gast-0.2.2\n",
      "\u001b[31mERROR: pip's dependency resolver does not currently take into account all the packages that are installed. This behaviour is the source of the following dependency conflicts.\n",
      "tensorflow-cpu 2.1.3 requires gast==0.2.2, but you have gast 0.4.0 which is incompatible.\n",
      "tensorflow-cpu 2.1.3 requires h5py<=2.10.0, but you have h5py 3.1.0 which is incompatible.\n",
      "tensorflow-cpu 2.1.3 requires keras-preprocessing==1.1.0, but you have keras-preprocessing 1.1.2 which is incompatible.\n",
      "tensorflow-cpu 2.1.3 requires numpy<1.19.0,>=1.16.0, but you have numpy 1.19.5 which is incompatible.\n",
      "tensorflow-cpu 2.1.3 requires tensorboard<2.2.0,>=2.1.0, but you have tensorboard 2.6.0 which is incompatible.\n",
      "tensorflow-cpu 2.1.3 requires tensorflow-estimator<2.2.0,>=2.1.0rc0, but you have tensorflow-estimator 2.6.0 which is incompatible.\u001b[0m\n",
      "Successfully installed astunparse-1.6.3 clang-5.0 flatbuffers-1.12 gast-0.4.0 grpcio-1.42.0 h5py-3.1.0 keras-2.6.0 keras-preprocessing-1.1.2 numpy-1.19.5 six-1.15.0 tensorboard-2.6.0 tensorboard-data-server-0.6.1 tensorboard-plugin-wit-1.8.0 tensorflow-2.6.2 tensorflow-estimator-2.6.0\n",
      "\u001b[33mWARNING: You are using pip version 21.0.1; however, version 21.3.1 is available.\n",
      "You should consider upgrading via the '/usr/local/bin/python3.6 -m pip install --upgrade pip' command.\u001b[0m\n",
      "Requirement already satisfied: keras in /usr/local/lib/python3.6/site-packages (2.6.0)\n",
      "\u001b[33mWARNING: You are using pip version 21.0.1; however, version 21.3.1 is available.\n",
      "You should consider upgrading via the '/usr/local/bin/python3.6 -m pip install --upgrade pip' command.\u001b[0m\n"
     ]
    }
   ],
   "source": [
    "!pip install matplotlib\n",
    "!pip install tensorflow\n",
    "!pip install keras\n",
    "import pandas as pd\n",
    "from sklearn.metrics import mean_squared_error, r2_score, mean_absolute_error\n",
    "import matplotlib.pyplot as plt\n",
    "from sklearn.model_selection import cross_val_score\n",
    "from sklearn.model_selection import cross_validate\n",
    "from sklearn.model_selection import cross_val_predict\n",
    "import numpy as np\n",
    "from keras.models import Sequential\n",
    "from keras.layers import Dense\n",
    "#from keras.wrappers.scikit_learn import KerasRegressor\n",
    "from keras.wrappers.scikit_learn import KerasRegressor\n",
    "from keras.layers import Conv1D, MaxPooling1D\n",
    "from keras.layers import Dropout, Dense, Activation\n",
    "from keras.layers import LSTM\n",
    "from tensorflow.keras.optimizers import Adam\n",
    "from sklearn.preprocessing import StandardScaler\n",
    "from sklearn.preprocessing import MinMaxScaler\n",
    "from tensorflow import keras"
   ]
  },
  {
   "cell_type": "markdown",
   "metadata": {
    "colab_type": "text",
    "id": "nl8bF1EPg5bu"
   },
   "source": [
    "Read csv"
   ]
  },
  {
   "cell_type": "code",
   "execution_count": 3,
   "metadata": {
    "colab": {},
    "colab_type": "code",
    "executionInfo": {
     "elapsed": 840,
     "status": "ok",
     "timestamp": 1592857719836,
     "user": {
      "displayName": "Guillermo Almonacid Olleros",
      "photoUrl": "https://lh3.googleusercontent.com/a-/AOh14GhjfrhK8qSn1CpU7XUoq54WssLCSZOwrZ0t1ndG0Q=s64",
      "userId": "09171152471714266162"
     },
     "user_tz": -60
    },
    "id": "voUcjKfLgvLw"
   },
   "outputs": [],
   "source": [
    "# Host runtinme\n",
    "#from google.colab import drive\n",
    "#drive.mount('/content/drive')\n",
    "#df = pd.read_csv('/content/drive/My Drive/opera-dl/data/opera_dataset_1w_10min.csv',parse_dates=['timestamp'])\n",
    "\n",
    "# Local runtime\n",
    "df = pd.read_csv('opera_dataset_1w_10min.csv',parse_dates=['timestamp'])\n",
    "\n"
   ]
  },
  {
   "cell_type": "markdown",
   "metadata": {
    "colab_type": "text",
    "id": "zOPvmcfFYVFK"
   },
   "source": [
    "Prepare data (samples, time steps, features) and normalise"
   ]
  },
  {
   "cell_type": "code",
   "execution_count": 4,
   "metadata": {
    "colab": {},
    "colab_type": "code",
    "executionInfo": {
     "elapsed": 1141,
     "status": "ok",
     "timestamp": 1592857720148,
     "user": {
      "displayName": "Guillermo Almonacid Olleros",
      "photoUrl": "https://lh3.googleusercontent.com/a-/AOh14GhjfrhK8qSn1CpU7XUoq54WssLCSZOwrZ0t1ndG0Q=s64",
      "userId": "09171152471714266162"
     },
     "user_tz": -60
    },
    "id": "sVE2sheGYUz4"
   },
   "outputs": [],
   "source": [
    "#small sample for debugging\n",
    "#df = df[:10000]\n",
    "\n",
    "# 90 minutes (9 * 10 minutes)\n",
    "time_steps = 9\n",
    "\n",
    "# 120 minutes (12 * 10 minutes)\n",
    "#time_steps = 12\n",
    "\n",
    "# Average only\n",
    "features=['Rad_avg','Tamb_avg']\n",
    "\n",
    "# Average, max, min and std dev\n",
    "#features=['Rad_avg','Tamb_avg','Tmod_avg','Rad_max','Tamb_max','Tmod_max','Rad_min','Tamb_min','Tmod_min','Rad_std','Tamb_std','Tmod_std']\n",
    "\n",
    "X = np.zeros((len(df), time_steps, len(features)))\n",
    "\n",
    "for ix in range(time_steps):\n",
    "  X[:,ix,:] = df[features].shift(ix)\n",
    "\n",
    "#Drop NaN\n",
    "X = X[time_steps:]\n",
    "y = df['Pa1'][time_steps:]\n",
    "\n",
    "# Normalise\n",
    "X_norm=X\n",
    "scalers_X = {}\n",
    "for i in range(X.shape[2]):\n",
    "    scalers_X[i] = StandardScaler()\n",
    "    X_norm[:, :, i] = scalers_X[i].fit_transform(X[:, :, i]) \n",
    "\n",
    "scaler_y = MinMaxScaler()\n",
    "y_norm = scaler_y.fit_transform(y.values.reshape(-1, 1))\n",
    "\n",
    "pd.DataFrame(X_norm.reshape(-1, 1)).to_csv(\"univer_2param_xnorm.csv\")\n",
    "pd.DataFrame(y_norm).to_csv(\"univer_2_param_ynorm.csv\")\n",
    "\n"
   ]
  },
  {
   "cell_type": "code",
   "execution_count": 5,
   "metadata": {},
   "outputs": [
    {
     "data": {
      "text/plain": [
       "2"
      ]
     },
     "execution_count": 5,
     "metadata": {},
     "output_type": "execute_result"
    }
   ],
   "source": [
    "#fig, axs = plt.subplots(3)\n",
    "#fig.set_figheight(30)\n",
    "#fig.set_figwidth(15)\n",
    "\n",
    "#axs[0].plot(df.index,X_norm[0])\n",
    "#axs[0].plot(X_norm[1])\n",
    "#axs[0].plot(y_norm)\n",
    "\n",
    "X.shape[2]\n",
    "\n",
    "\n"
   ]
  },
  {
   "cell_type": "markdown",
   "metadata": {
    "colab_type": "text",
    "id": "bCm63cLXn_xP"
   },
   "source": [
    "Model"
   ]
  },
  {
   "cell_type": "code",
   "execution_count": 6,
   "metadata": {
    "colab": {},
    "colab_type": "code",
    "executionInfo": {
     "elapsed": 1142,
     "status": "ok",
     "timestamp": 1592857720155,
     "user": {
      "displayName": "Guillermo Almonacid Olleros",
      "photoUrl": "https://lh3.googleusercontent.com/a-/AOh14GhjfrhK8qSn1CpU7XUoq54WssLCSZOwrZ0t1ndG0Q=s64",
      "userId": "09171152471714266162"
     },
     "user_tz": -60
    },
    "id": "_hrT5vqLn_fR"
   },
   "outputs": [],
   "source": [
    "# batch size = 1 week of data\n",
    "b_size = 1008\n",
    "\n",
    "n_epochs = 20\n",
    "\n",
    "def baseline_model():\n",
    "  # create model\n",
    "  model = Sequential()\n",
    "  model.add(Conv1D(16,2,padding='valid',activation='relu',strides=1, input_shape=(X_norm.shape[1], X_norm.shape[2])))\n",
    "  #model.add(MaxPooling1D(pool_size=2))\n",
    "  model.add(Conv1D(32,2,padding='valid',activation='relu',strides=1))\n",
    "  #model.add(MaxPooling1D(pool_size=2))\n",
    "  model.add(Conv1D(64,2,padding='valid',activation='relu',strides=1))\n",
    "  #model.add(MaxPooling1D(pool_size=2))\n",
    "  model.add(Dropout(0.25))\n",
    "  #model.add(LSTM(32, return_sequences=True,input_shape=(X_norm.shape[1], X_norm.shape[2])))\n",
    "  model.add(LSTM(32, return_sequences=True))\n",
    "  model.add(Dropout(0.25))\n",
    "  model.add(LSTM(32))\n",
    "  model.add(Dropout(0.25))\n",
    "  model.add(Dense(1))\n",
    "  model.add(Activation('relu'))\n",
    "\t# Compile model\n",
    "  model.compile(loss='mean_squared_error', optimizer=Adam(lr=0.0003), metrics=['mean_squared_error','mean_absolute_error'])\n",
    "\t#model.compile(loss='mean_squared_error', optimizer='adam')\n",
    "  return model\n",
    "\n",
    "# evaluate model\n",
    "opera_estimator = KerasRegressor(build_fn=baseline_model, epochs=n_epochs, batch_size=b_size, verbose=0)\n",
    "#kfold = KFold(n_splits=10)\n",
    "\n"
   ]
  },
  {
   "cell_type": "markdown",
   "metadata": {
    "colab_type": "text",
    "id": "R18ABv6UWV_c"
   },
   "source": [
    "Cross validation"
   ]
  },
  {
   "cell_type": "code",
   "execution_count": 7,
   "metadata": {
    "colab": {
     "base_uri": "https://localhost:8080/",
     "height": 395
    },
    "colab_type": "code",
    "executionInfo": {
     "elapsed": 632569,
     "status": "error",
     "timestamp": 1592860031919,
     "user": {
      "displayName": "Guillermo Almonacid Olleros",
      "photoUrl": "https://lh3.googleusercontent.com/a-/AOh14GhjfrhK8qSn1CpU7XUoq54WssLCSZOwrZ0t1ndG0Q=s64",
      "userId": "09171152471714266162"
     },
     "user_tz": -60
    },
    "id": "C9kDhb0qWY7i",
    "outputId": "c4c1d9a1-5903-4867-fdb7-574946e1d916"
   },
   "outputs": [],
   "source": [
    "\n",
    "# X normalised\n",
    "#scores_predict = cross_val_predict(estimator, X_norm, y_norm, cv=cv_n)\n",
    " \n",
    "# X not normalised\n",
    "#scores_predict = cross_val_predict(estimator, X, y_norm, cv=cv_n)\n",
    "\n",
    "#scores_predict_denorm = scaler_y.inverse_transform(scores_predict.reshape(-1, 1))\n",
    "\n"
   ]
  },
  {
   "cell_type": "markdown",
   "metadata": {
    "colab_type": "text",
    "id": "QoOiAWlQ1dL2"
   },
   "source": [
    "fit and save for model transfer"
   ]
  },
  {
   "cell_type": "code",
   "execution_count": 8,
   "metadata": {
    "colab": {},
    "colab_type": "code",
    "executionInfo": {
     "elapsed": 152,
     "status": "aborted",
     "timestamp": 1592860031922,
     "user": {
      "displayName": "Guillermo Almonacid Olleros",
      "photoUrl": "https://lh3.googleusercontent.com/a-/AOh14GhjfrhK8qSn1CpU7XUoq54WssLCSZOwrZ0t1ndG0Q=s64",
      "userId": "09171152471714266162"
     },
     "user_tz": -60
    },
    "id": "80OlGUjV1cpU"
   },
   "outputs": [
    {
     "name": "stderr",
     "output_type": "stream",
     "text": [
      "/usr/local/lib/python3.6/site-packages/keras/optimizer_v2/optimizer_v2.py:356: UserWarning: The `lr` argument is deprecated, use `learning_rate` instead.\n",
      "  \"The `lr` argument is deprecated, use `learning_rate` instead.\")\n"
     ]
    }
   ],
   "source": [
    "opera_estimator.fit(X_norm, y_norm)\n",
    "opera_estimator.model.save('OperaEstimator2param20211209.h5')\n"
   ]
  },
  {
   "cell_type": "code",
   "execution_count": 10,
   "metadata": {},
   "outputs": [],
   "source": [
    "\n",
    "\n",
    "scores_predict = cross_val_predict(opera_estimator, X_norm, y_norm, cv=cv_n)\n",
    "scores_predict_denorm = scaler_y.inverse_transform(scores_predict.reshape(-1, 1))\n",
    "\n",
    "#scores_predict = estimator.predict(X_norm)\n",
    "#pd.DataFrame(scores_predict).to_csv(\"univer2param_prediction.csv\")\n",
    "#scores_predict_denorm = scaler_y.inverse_transform(scores_predict.reshape(-1, 1))\n",
    "#pd.DataFrame(scores_predict_denorm).to_csv(\"univer2param_prediction_denorm.csv\")\n"
   ]
  },
  {
   "cell_type": "markdown",
   "metadata": {
    "colab_type": "text",
    "id": "KLhuNrvFPnEU"
   },
   "source": [
    "Metrics"
   ]
  },
  {
   "cell_type": "code",
   "execution_count": 11,
   "metadata": {
    "colab": {},
    "colab_type": "code",
    "executionInfo": {
     "elapsed": 139,
     "status": "aborted",
     "timestamp": 1592860031923,
     "user": {
      "displayName": "Guillermo Almonacid Olleros",
      "photoUrl": "https://lh3.googleusercontent.com/a-/AOh14GhjfrhK8qSn1CpU7XUoq54WssLCSZOwrZ0t1ndG0Q=s64",
      "userId": "09171152471714266162"
     },
     "user_tz": -60
    },
    "id": "WD37TQ097-oz"
   },
   "outputs": [
    {
     "name": "stdout",
     "output_type": "stream",
     "text": [
      "584.7240366390788 331.12979493094485 0.9955953803910786\n"
     ]
    }
   ],
   "source": [
    "RMSE = np.sqrt(mean_squared_error(y,scores_predict_denorm))\n",
    "MAE = mean_absolute_error(y,scores_predict_denorm)\n",
    "R2 = r2_score(y,scores_predict_denorm)\n",
    "print(RMSE,MAE, R2)"
   ]
  },
  {
   "cell_type": "markdown",
   "metadata": {
    "colab_type": "text",
    "id": "JkRO76FV7Guu"
   },
   "source": [
    "Results:\n",
    "- RMSE=520.5W\n",
    "- MAE=278.7W\n",
    "- R2=0.9959220155387354"
   ]
  },
  {
   "cell_type": "code",
   "execution_count": 12,
   "metadata": {
    "colab": {},
    "colab_type": "code",
    "executionInfo": {
     "elapsed": 126,
     "status": "aborted",
     "timestamp": 1592860031926,
     "user": {
      "displayName": "Guillermo Almonacid Olleros",
      "photoUrl": "https://lh3.googleusercontent.com/a-/AOh14GhjfrhK8qSn1CpU7XUoq54WssLCSZOwrZ0t1ndG0Q=s64",
      "userId": "09171152471714266162"
     },
     "user_tz": -60
    },
    "id": "VxZBVy6R7Gc0"
   },
   "outputs": [],
   "source": [
    "#plt.scatter(y, scores_predict_denorm, s=1)\n",
    "#plt.plot([y.min(), y.max()], [y.min(), y.max()], 'k--', lw=4)\n",
    " "
   ]
  },
  {
   "cell_type": "markdown",
   "metadata": {
    "colab_type": "text",
    "id": "DueCSRmB626b"
   },
   "source": [
    "Performance"
   ]
  },
  {
   "cell_type": "code",
   "execution_count": 13,
   "metadata": {
    "colab": {},
    "colab_type": "code",
    "executionInfo": {
     "elapsed": 109,
     "status": "aborted",
     "timestamp": 1592860031927,
     "user": {
      "displayName": "Guillermo Almonacid Olleros",
      "photoUrl": "https://lh3.googleusercontent.com/a-/AOh14GhjfrhK8qSn1CpU7XUoq54WssLCSZOwrZ0t1ndG0Q=s64",
      "userId": "09171152471714266162"
     },
     "user_tz": -60
    },
    "id": "PfOwYcJl64YP"
   },
   "outputs": [],
   "source": [
    "#scores_eval = cross_validate(estimator, X_norm, y_norm, cv=cv_n)\n",
    "#print(scores_eval['fit_time'].mean(), scores_eval['score_time'].mean(), scores_eval['test_score'].mean())"
   ]
  },
  {
   "cell_type": "code",
   "execution_count": 14,
   "metadata": {
    "colab": {},
    "colab_type": "code",
    "executionInfo": {
     "elapsed": 87,
     "status": "aborted",
     "timestamp": 1592860031927,
     "user": {
      "displayName": "Guillermo Almonacid Olleros",
      "photoUrl": "https://lh3.googleusercontent.com/a-/AOh14GhjfrhK8qSn1CpU7XUoq54WssLCSZOwrZ0t1ndG0Q=s64",
      "userId": "09171152471714266162"
     },
     "user_tz": -60
    },
    "id": "3IjOsBkvprk3"
   },
   "outputs": [
    {
     "data": {
      "image/png": "[encoded data removed]",
      "text/plain": [
       "<Figure size 1296x288 with 1 Axes>"
      ]
     },
     "metadata": {
      "needs_background": "light"
     },
     "output_type": "display_data"
    }
   ],
   "source": [
    "X = df.drop('Pa1', axis=1)\n",
    "#y = df['Pa1']\n",
    "\n",
    "xplot_min = 1240\n",
    "xplot_max = 1480\n",
    "\n",
    "fig, axes = plt.subplots(figsize=(18, 4))\n",
    "axes.scatter(X.index[xplot_min:xplot_max],y[xplot_min:xplot_max],color=\"blue\",label=\"Measured Value\",s=5)\n",
    "axes.plot(X.index[xplot_min:xplot_max],scores_predict_denorm[xplot_min:xplot_max], color=\"red\",label=\"3CNN+2LSTM\")\n",
    "axes.legend()\n",
    "axes.set_xlim(X.index[xplot_min],X.index[xplot_max])\n",
    "axes.set_xlabel('Time')\n",
    "axes.set_ylabel('Power')  \n",
    "\n",
    "\n",
    "fig.autofmt_xdate()\n",
    "plt.show()"
   ]
  },
  {
   "cell_type": "markdown",
   "metadata": {},
   "source": [
    "#### Stranger learning\n",
    "\n",
    "We will try to nowcast the output power generation of the Milano SolarTech Lab system with the Univer model, without re-training the model"
   ]
  },
  {
   "cell_type": "code",
   "execution_count": 8,
   "metadata": {},
   "outputs": [],
   "source": [
    "estimator_b_solartech_on_univer=keras.models.load_model('SolarTechEstimator20211209.h5')\n",
    "domain_scores_predict = estimator_b_solartech_on_univer.predict(X_norm)\n",
    "domain_scores_predict_denorm = scaler_y.inverse_transform(domain_scores_predict.reshape(-1, 1))\n",
    "pd.DataFrame(domain_scores_predict_denorm).to_csv(\"solartech_on_univer_prediction_denorm.csv\")"
   ]
  },
  {
   "cell_type": "code",
   "execution_count": 9,
   "metadata": {},
   "outputs": [
    {
     "name": "stdout",
     "output_type": "stream",
     "text": [
      "0.058084160660062605 0.035615771718547684\n"
     ]
    }
   ],
   "source": [
    "#RMSE = np.sqrt(mean_squared_error(y,domain_scores_predict_denorm))\n",
    "#MAE = mean_absolute_error(y,domain_scores_predict_denorm)\n",
    "#R2 = r2_score(y,domain_scores_predict_denorm)\n",
    "#print(RMSE,MAE, R2)\n",
    "\n",
    "NMSE = np.sqrt(mean_squared_error(y_norm,domain_scores_predict))\n",
    "NMAE = mean_absolute_error(y_norm,domain_scores_predict)\n",
    "print(NMSE,NMAE)"
   ]
  },
  {
   "cell_type": "markdown",
   "metadata": {},
   "source": [
    "Results:\n",
    "- RMSE=2301.35W\n",
    "- MAE=1539.10W\n",
    "- R2=0.9317702640948087"
   ]
  },
  {
   "cell_type": "markdown",
   "metadata": {},
   "source": [
    "Fine-tuned Learning"
   ]
  },
  {
   "cell_type": "code",
   "execution_count": 17,
   "metadata": {},
   "outputs": [
    {
     "name": "stderr",
     "output_type": "stream",
     "text": [
      "/usr/local/lib/python3.6/site-packages/keras/optimizer_v2/optimizer_v2.py:356: UserWarning: The `lr` argument is deprecated, use `learning_rate` instead.\n",
      "  \"The `lr` argument is deprecated, use `learning_rate` instead.\")\n"
     ]
    },
    {
     "name": "stdout",
     "output_type": "stream",
     "text": [
      "549.7001606918678 309.31345266318283 0.9961072345086242\n"
     ]
    }
   ],
   "source": [
    "estimator_c_solartech_univer=opera_estimator\n",
    "estimator_c_solartech_univer.model=keras.models.load_model('SolarTechEstimator20211206.h5')\n",
    "finetuned_scores_predict = cross_val_predict(estimator_c_solartech_univer, X_norm, y_norm, cv=cv_n)\n",
    "finetuned_scores_predict_denorm = scaler_y.inverse_transform(finetuned_scores_predict.reshape(-1, 1))\n",
    "RMSE = np.sqrt(mean_squared_error(y,finetuned_scores_predict_denorm))\n",
    "MAE = mean_absolute_error(y,finetuned_scores_predict_denorm)\n",
    "R2 = r2_score(y,finetuned_scores_predict_denorm)\n",
    "print(RMSE,MAE, R2)"
   ]
  },
  {
   "cell_type": "markdown",
   "metadata": {},
   "source": [
    "Results:\n",
    "- RMSE=513.76W\n",
    "- MAE=279.57W\n",
    "- R2=0.996599690513932"
   ]
  },
  {
   "cell_type": "code",
   "execution_count": 9,
   "metadata": {},
   "outputs": [],
   "source": [
    "n_epochs_learning=50\n",
    "\n",
    "estimator_learning=keras.models.load_model('SolarTechEstimator20211209.h5')\n",
    "fitted_model_transfer = estimator_learning.fit(X_norm, y_norm, validation_split=0.33, epochs=n_epochs_learning, batch_size=b_size, shuffle=True, verbose=0)\n"
   ]
  },
  {
   "cell_type": "code",
   "execution_count": 10,
   "metadata": {},
   "outputs": [],
   "source": [
    "\n",
    "NMSE_transfer = fitted_model_transfer.history['val_mean_squared_error'][-1]\n",
    "NMAE_transfer = fitted_model_transfer.history['val_mean_absolute_error'][-1]"
   ]
  },
  {
   "cell_type": "code",
   "execution_count": 11,
   "metadata": {},
   "outputs": [
    {
     "name": "stdout",
     "output_type": "stream",
     "text": [
      "0.0009555931901559234 0.016321225091814995\n"
     ]
    }
   ],
   "source": [
    "print(NMSE_transfer, NMAE_transfer)"
   ]
  },
  {
   "cell_type": "code",
   "execution_count": 11,
   "metadata": {},
   "outputs": [],
   "source": [
    "n_epochs_learning=50\n",
    "\n",
    "t_model = Sequential()\n",
    "t_model.add(Conv1D(16,2,padding='valid',activation='relu',strides=1, input_shape=(X_norm.shape[1], X_norm.shape[2])))\n",
    "  #model.add(MaxPooling1D(pool_size=2))\n",
    "t_model.add(Conv1D(32,2,padding='valid',activation='relu',strides=1))\n",
    "  #model.add(MaxPooling1D(pool_size=2))\n",
    "t_model.add(Conv1D(64,2,padding='valid',activation='relu',strides=1))\n",
    "  #model.add(MaxPooling1D(pool_size=2))\n",
    "t_model.add(Dropout(0.25))\n",
    "t_model.add(LSTM(32, return_sequences=True))\n",
    "t_model.add(Dropout(0.25))\n",
    "t_model.add(LSTM(32))\n",
    "t_model.add(Dropout(0.25))\n",
    "t_model.add(Dense(1))\n",
    "t_model.add(Activation('relu'))\n",
    "  # Compile model\n",
    "  #model.compile(loss='mae', optimizer=Adam(lr=0.0003), metrics=['mae'])\n",
    "  #model.compile(loss='mean_squared_error', optimizer='adam')\n",
    "t_model.compile(loss='mean_squared_error', optimizer=Adam(lr=0.0003), metrics=['mean_squared_error','mean_absolute_error'])\n",
    "\n",
    "\n",
    "fitted_model = t_model.fit(X_norm, y_norm, validation_split=0.33, epochs=n_epochs_learning, batch_size=b_size, shuffle=True, verbose=0)\n"
   ]
  },
  {
   "cell_type": "code",
   "execution_count": 12,
   "metadata": {},
   "outputs": [],
   "source": [
    "NMSE = fitted_model.history['val_mean_squared_error'][-1]\n",
    "NMAE = fitted_model.history['val_mean_absolute_error'][-1]"
   ]
  },
  {
   "cell_type": "code",
   "execution_count": 13,
   "metadata": {},
   "outputs": [
    {
     "name": "stdout",
     "output_type": "stream",
     "text": [
      "0.0014597034314647317 0.01928296685218811\n"
     ]
    }
   ],
   "source": [
    "print(NMSE, NMAE)"
   ]
  },
  {
   "cell_type": "markdown",
   "metadata": {},
   "source": [
    "0.0014597034314647317 0.01928296685218811"
   ]
  },
  {
   "cell_type": "code",
   "execution_count": null,
   "metadata": {},
   "outputs": [],
   "source": []
  }
 ],
 "metadata": {
  "accelerator": "TPU",
  "colab": {
   "name": "Opera.DL - 3CNN + 2LSTM.ipynb",
   "provenance": [
    {
     "file_id": "12EXgIHNUReoieLdHX49pjplsKFpe2UsG",
     "timestamp": 1591571478792
    },
    {
     "file_id": "1KsFkt5mOpZU9G5qMsa9RuH-GBRvHPuwV",
     "timestamp": 1583078567174
    },
    {
     "file_id": "1ssqWFvFTqkKlzovDslDtfWsGVL2_awB7",
     "timestamp": 1582990310194
    },
    {
     "file_id": "1Lny-aXsQ4E_-8OAd4hfCCM1ZFRikVpVZ",
     "timestamp": 1582990161997
    },
    {
     "file_id": "10bDXyX4qIBXY4m9b8JkNUJlwyFD3YyEJ",
     "timestamp": 1582984219620
    }
   ]
  },
  "instance_type": "ml.t3.medium",
  "kernelspec": {
   "display_name": "Python 3 (TensorFlow 2.1 Python 3.6 CPU Optimized)",
   "language": "python",
   "name": "python3__SAGEMAKER_INTERNAL__arn:aws:sagemaker:us-west-2:236514542706:image/tensorflow-2.1-cpu-py36"
  },
  "language_info": {
   "codemirror_mode": {
    "name": "ipython",
    "version": 3
   },
   "file_extension": ".py",
   "mimetype": "text/x-python",
   "name": "python",
   "nbconvert_exporter": "python",
   "pygments_lexer": "ipython3",
   "version": "3.6.13"
  }
 },
 "nbformat": 4,
 "nbformat_minor": 4
}
